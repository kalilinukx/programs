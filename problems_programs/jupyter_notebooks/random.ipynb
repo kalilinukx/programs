{
 "metadata": {
  "language_info": {
   "codemirror_mode": {
    "name": "ipython",
    "version": 3
   },
   "file_extension": ".py",
   "mimetype": "text/x-python",
   "name": "python",
   "nbconvert_exporter": "python",
   "pygments_lexer": "ipython3",
   "version": "3.8.3-candidate"
  },
  "orig_nbformat": 2,
  "kernelspec": {
   "name": "python3",
   "display_name": "Python 3"
  }
 },
 "nbformat": 4,
 "nbformat_minor": 2,
 "cells": [
  {
   "cell_type": "code",
   "execution_count": 10,
   "metadata": {},
   "outputs": [],
   "source": [
    "lst = '1234567890qwertyuiopasdfghjklmnbvcxz!@#$%^&*()_=+QWERTYUIOPLKJHGFDSAZXCVBNM'\n"
   ]
  },
  {
   "cell_type": "code",
   "execution_count": 46,
   "metadata": {},
   "outputs": [
    {
     "output_type": "stream",
     "name": "stdout",
     "text": [
      "A5Wrvsyo))xXJtZE9R1u_Wumw*VLGWbD7)#9XJ5G)%8f#uQCYkCkACHYrOtbW9oII015u%99Bdr_J9PVARnEhc02Z"
     ]
    }
   ],
   "source": [
    "lst = '1234567890qwertyuiopasdfghjklmnbvcxz!@#$%^&*()_=+QWERTYUIOPLKJHGFDSAZXCVBNM'\n",
    "import random\n",
    "#  the program for the Random password generation\n",
    "length = int(input(\"Enter YourPassword length: \"))\n",
    "\n",
    "# print(random.shuffle(lst))\n",
    "for i in range(length):\n",
    "    print(random.choice(passd),end = '')\n"
   ]
  },
  {
   "cell_type": "code",
   "execution_count": 20,
   "metadata": {},
   "outputs": [
    {
     "output_type": "execute_result",
     "data": {
      "text/plain": [
       "'R'"
      ]
     },
     "metadata": {},
     "execution_count": 20
    }
   ],
   "source": [
    "import random\n",
    "random.choice(lst)"
   ]
  },
  {
   "cell_type": "code",
   "execution_count": 28,
   "metadata": {},
   "outputs": [
    {
     "output_type": "stream",
     "name": "stdout",
     "text": [
      "d\n"
     ]
    }
   ],
   "source": []
  }
 ]
}